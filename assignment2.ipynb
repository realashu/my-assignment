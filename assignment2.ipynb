{
 "cells": [
  {
   "cell_type": "code",
   "execution_count": 1,
   "id": "d00dbdf4-fa68-4633-99a2-445e207f4b37",
   "metadata": {},
   "outputs": [],
   "source": [
    "#Q1 \n",
    "# to comment a code in python "
   ]
  },
  {
   "cell_type": "code",
   "execution_count": 4,
   "id": "5f7dff2d-77a0-4bc2-a0d7-a0d5d4644aaa",
   "metadata": {},
   "outputs": [],
   "source": [
    "# we use (#) and also we can use (##)"
   ]
  },
  {
   "cell_type": "code",
   "execution_count": 5,
   "id": "0784e74d-9cef-4fe6-aae6-059680a6d93a",
   "metadata": {},
   "outputs": [],
   "source": [
    "## ashu"
   ]
  },
  {
   "cell_type": "code",
   "execution_count": 9,
   "id": "08f619be-d9c1-4f3c-886e-7a379eedfcd7",
   "metadata": {},
   "outputs": [
    {
     "data": {
      "text/plain": [
       "' ashu '"
      ]
     },
     "execution_count": 9,
     "metadata": {},
     "output_type": "execute_result"
    }
   ],
   "source": [
    "''' ashu '''"
   ]
  },
  {
   "cell_type": "code",
   "execution_count": 10,
   "id": "f66cc14c-69b5-441b-82a4-36ed93a0fc21",
   "metadata": {},
   "outputs": [],
   "source": [
    "# also use of (''') quotes"
   ]
  },
  {
   "cell_type": "code",
   "execution_count": 11,
   "id": "a4ebe3e8-36a8-492a-8be1-a8e8d2694aec",
   "metadata": {},
   "outputs": [],
   "source": [
    "#Q2"
   ]
  },
  {
   "cell_type": "code",
   "execution_count": 12,
   "id": "11c3683e-7c81-4915-9276-902e2e809544",
   "metadata": {},
   "outputs": [],
   "source": [
    "# variables"
   ]
  },
  {
   "cell_type": "code",
   "execution_count": 13,
   "id": "2f3c0ad0-0993-4085-9899-a13a8c00c6f3",
   "metadata": {},
   "outputs": [],
   "source": [
    "a = \"ashu\" "
   ]
  },
  {
   "cell_type": "code",
   "execution_count": 14,
   "id": "f6675b39-ba8d-4b4c-9e55-c757fd4f3102",
   "metadata": {},
   "outputs": [],
   "source": [
    "# hece a is assigned to the ashu through an assigning operator"
   ]
  },
  {
   "cell_type": "code",
   "execution_count": 15,
   "id": "ed019cc8-9b9e-42fd-91b9-1806c122ef85",
   "metadata": {},
   "outputs": [],
   "source": [
    "# where a is a variable which is storing a data"
   ]
  },
  {
   "cell_type": "code",
   "execution_count": 16,
   "id": "c31bf416-b63b-4c91-9018-7e71c1484512",
   "metadata": {},
   "outputs": [],
   "source": [
    "#Q3"
   ]
  },
  {
   "cell_type": "code",
   "execution_count": 17,
   "id": "02c8993e-d1e3-45d7-adb8-c8520256fd85",
   "metadata": {},
   "outputs": [],
   "source": [
    "a = 90 "
   ]
  },
  {
   "cell_type": "code",
   "execution_count": 18,
   "id": "057126b4-ff60-4e2e-843e-18e13d05a179",
   "metadata": {},
   "outputs": [],
   "source": [
    "# if we want to make an int to a string so we use"
   ]
  },
  {
   "cell_type": "code",
   "execution_count": 20,
   "id": "82fbb392-f617-414f-96ca-6bdddc7c4f9f",
   "metadata": {},
   "outputs": [
    {
     "data": {
      "text/plain": [
       "'90'"
      ]
     },
     "execution_count": 20,
     "metadata": {},
     "output_type": "execute_result"
    }
   ],
   "source": [
    "str(a)"
   ]
  },
  {
   "cell_type": "code",
   "execution_count": 1,
   "id": "09a5e51e-9324-4d7b-bf0a-964b1516c9f5",
   "metadata": {},
   "outputs": [],
   "source": [
    "#Q5"
   ]
  },
  {
   "cell_type": "code",
   "execution_count": 2,
   "id": "3d9da2c3-1076-481a-899a-b5c37bf8f0c8",
   "metadata": {},
   "outputs": [],
   "source": [
    "my_list = [ 1, 2, 3, 4, 5]"
   ]
  },
  {
   "cell_type": "code",
   "execution_count": 3,
   "id": "7d1f3594-6232-4f2f-be77-4b25b6dbd77e",
   "metadata": {},
   "outputs": [
    {
     "data": {
      "text/plain": [
       "[2, 3]"
      ]
     },
     "execution_count": 3,
     "metadata": {},
     "output_type": "execute_result"
    }
   ],
   "source": [
    "my_list[1:3:1]"
   ]
  },
  {
   "cell_type": "code",
   "execution_count": 4,
   "id": "732d215d-e821-446d-8395-75e086ee206f",
   "metadata": {},
   "outputs": [],
   "source": [
    "#Q6 "
   ]
  },
  {
   "cell_type": "code",
   "execution_count": 5,
   "id": "9909faf2-de96-4a1f-bf19-4c61944f47c6",
   "metadata": {},
   "outputs": [],
   "source": [
    "# in maths complex number is shown by 6+9i but in python complex number is written by "
   ]
  },
  {
   "cell_type": "code",
   "execution_count": 6,
   "id": "248a88fb-dfbc-4199-a6ce-963bb1352bb5",
   "metadata": {},
   "outputs": [],
   "source": [
    "b = 8 + 9j "
   ]
  },
  {
   "cell_type": "code",
   "execution_count": 7,
   "id": "629af1aa-eb9c-48a7-9bdd-6fc434ba5dbe",
   "metadata": {},
   "outputs": [
    {
     "data": {
      "text/plain": [
       "complex"
      ]
     },
     "execution_count": 7,
     "metadata": {},
     "output_type": "execute_result"
    }
   ],
   "source": [
    "type(b)"
   ]
  },
  {
   "cell_type": "code",
   "execution_count": 8,
   "id": "4fcc78e2-88b8-41ea-b27b-41ad91de6ace",
   "metadata": {},
   "outputs": [],
   "source": [
    "#Q7 "
   ]
  },
  {
   "cell_type": "code",
   "execution_count": 9,
   "id": "1a5a9e35-d329-4e51-8d66-699938471757",
   "metadata": {},
   "outputs": [],
   "source": [
    "# to assign the value 25 "
   ]
  },
  {
   "cell_type": "code",
   "execution_count": 10,
   "id": "fb8e7070-f129-4161-8cab-669201012e56",
   "metadata": {},
   "outputs": [],
   "source": [
    "age = 25 "
   ]
  },
  {
   "cell_type": "code",
   "execution_count": 11,
   "id": "926516fa-5754-41e5-a607-d29bb1494bee",
   "metadata": {},
   "outputs": [],
   "source": [
    "#Q8 "
   ]
  },
  {
   "cell_type": "code",
   "execution_count": 12,
   "id": "abcbc806-1983-471b-a74f-1a97a5fd8c33",
   "metadata": {},
   "outputs": [],
   "source": [
    "price = 9.99 "
   ]
  },
  {
   "cell_type": "code",
   "execution_count": 13,
   "id": "869b415e-3401-479b-9038-7d28dd0f1e24",
   "metadata": {},
   "outputs": [
    {
     "data": {
      "text/plain": [
       "float"
      ]
     },
     "execution_count": 13,
     "metadata": {},
     "output_type": "execute_result"
    }
   ],
   "source": [
    "type(price)"
   ]
  },
  {
   "cell_type": "code",
   "execution_count": 14,
   "id": "b4898edb-a3d7-40ef-b74a-df4a2a9959a3",
   "metadata": {},
   "outputs": [],
   "source": [
    "#Q9"
   ]
  },
  {
   "cell_type": "code",
   "execution_count": 15,
   "id": "28420890-b1be-4bd0-ab5e-2cf90f54ff0b",
   "metadata": {},
   "outputs": [],
   "source": [
    "name = \"ashutosh\""
   ]
  },
  {
   "cell_type": "code",
   "execution_count": 20,
   "id": "caffa4f6-0a92-428d-aae5-ffbb0cc47bbb",
   "metadata": {},
   "outputs": [
    {
     "name": "stdout",
     "output_type": "stream",
     "text": [
      "ashutosh\n"
     ]
    }
   ],
   "source": [
    "print(name)"
   ]
  },
  {
   "cell_type": "code",
   "execution_count": 21,
   "id": "ae0da81f-40e9-467e-8b98-7e2c5070b451",
   "metadata": {},
   "outputs": [],
   "source": [
    "#Q10"
   ]
  },
  {
   "cell_type": "code",
   "execution_count": 17,
   "id": "25c4eec8-3bea-485a-9161-d3dead095061",
   "metadata": {},
   "outputs": [],
   "source": [
    "p = \"Hello World!\""
   ]
  },
  {
   "cell_type": "code",
   "execution_count": 19,
   "id": "440f4d3e-6e2d-4ca5-9b87-aefd37f2103f",
   "metadata": {},
   "outputs": [
    {
     "data": {
      "text/plain": [
       "'World'"
      ]
     },
     "execution_count": 19,
     "metadata": {},
     "output_type": "execute_result"
    }
   ],
   "source": [
    "p[6:11:1]"
   ]
  },
  {
   "cell_type": "code",
   "execution_count": 22,
   "id": "2c394fda-1476-43c4-9988-36b132d49f5b",
   "metadata": {},
   "outputs": [],
   "source": [
    "#Q11"
   ]
  },
  {
   "cell_type": "code",
   "execution_count": 23,
   "id": "f07d1e9c-f6d0-4652-a7b4-f7634fb26cb7",
   "metadata": {},
   "outputs": [],
   "source": [
    "is_student = True"
   ]
  },
  {
   "cell_type": "code",
   "execution_count": 24,
   "id": "3997cd13-6c6f-4f96-b78e-9ad07f026d77",
   "metadata": {},
   "outputs": [
    {
     "data": {
      "text/plain": [
       "bool"
      ]
     },
     "execution_count": 24,
     "metadata": {},
     "output_type": "execute_result"
    }
   ],
   "source": [
    "type(is_student)"
   ]
  },
  {
   "cell_type": "code",
   "execution_count": 25,
   "id": "2bf73d2c-3de5-4fd6-a3b6-0306b45dd98b",
   "metadata": {},
   "outputs": [
    {
     "data": {
      "text/plain": [
       "True"
      ]
     },
     "execution_count": 25,
     "metadata": {},
     "output_type": "execute_result"
    }
   ],
   "source": [
    "is_student"
   ]
  },
  {
   "cell_type": "code",
   "execution_count": null,
   "id": "233400f6-dfe6-44ec-b20b-a5a439c9e73c",
   "metadata": {},
   "outputs": [],
   "source": []
  }
 ],
 "metadata": {
  "kernelspec": {
   "display_name": "Python 3 (ipykernel)",
   "language": "python",
   "name": "python3"
  },
  "language_info": {
   "codemirror_mode": {
    "name": "ipython",
    "version": 3
   },
   "file_extension": ".py",
   "mimetype": "text/x-python",
   "name": "python",
   "nbconvert_exporter": "python",
   "pygments_lexer": "ipython3",
   "version": "3.10.8"
  }
 },
 "nbformat": 4,
 "nbformat_minor": 5
}
