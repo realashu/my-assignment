{
 "cells": [
  {
   "cell_type": "code",
   "execution_count": 1,
   "id": "dd4c665d-1643-44be-8edb-71ba527adff5",
   "metadata": {},
   "outputs": [],
   "source": [
    "a = \" ashu \""
   ]
  },
  {
   "cell_type": "code",
   "execution_count": 3,
   "id": "77071184-1ef6-4d38-9602-964a17254f73",
   "metadata": {},
   "outputs": [],
   "source": [
    "b = [ 4 ,  5 , 6 , 34.5 ] "
   ]
  },
  {
   "cell_type": "code",
   "execution_count": 4,
   "id": "87d430b4-4943-43e9-8c04-fbb9915c3207",
   "metadata": {},
   "outputs": [
    {
     "data": {
      "text/plain": [
       "('ashu', 'shivam', 'khandelwal')"
      ]
     },
     "execution_count": 4,
     "metadata": {},
     "output_type": "execute_result"
    }
   ],
   "source": [
    "( \"ashu\" , \"shivam\" , \"khandelwal\") "
   ]
  },
  {
   "cell_type": "code",
   "execution_count": 5,
   "id": "e3b7b0f0-6639-4012-b48f-e6b6e6ee0e20",
   "metadata": {},
   "outputs": [],
   "source": [
    "c = 45.89 "
   ]
  },
  {
   "cell_type": "code",
   "execution_count": 6,
   "id": "752a3c25-fa7d-4a82-802c-ae98252bc30a",
   "metadata": {},
   "outputs": [],
   "source": [
    "# Q2 "
   ]
  },
  {
   "cell_type": "code",
   "execution_count": 9,
   "id": "a71022a6-8f05-44cc-a6a9-6a157299ffa3",
   "metadata": {},
   "outputs": [],
   "source": [
    "d = ' '"
   ]
  },
  {
   "cell_type": "code",
   "execution_count": 10,
   "id": "7c637f3c-ba2a-455e-9ee9-a3a83ad46ce1",
   "metadata": {},
   "outputs": [
    {
     "data": {
      "text/plain": [
       "str"
      ]
     },
     "execution_count": 10,
     "metadata": {},
     "output_type": "execute_result"
    }
   ],
   "source": [
    "type (d)"
   ]
  },
  {
   "cell_type": "code",
   "execution_count": 12,
   "id": "4d99a3b1-acd4-4e75-8526-21c961c522fe",
   "metadata": {},
   "outputs": [],
   "source": [
    "e = '[ DS , ML , Python]'"
   ]
  },
  {
   "cell_type": "code",
   "execution_count": 13,
   "id": "4bac6084-1655-4232-aae0-96a8ca5c1dea",
   "metadata": {},
   "outputs": [
    {
     "data": {
      "text/plain": [
       "str"
      ]
     },
     "execution_count": 13,
     "metadata": {},
     "output_type": "execute_result"
    }
   ],
   "source": [
    "type (e)"
   ]
  },
  {
   "cell_type": "code",
   "execution_count": 15,
   "id": "162ce369-613b-45af-8df1-e6896c00fc48",
   "metadata": {},
   "outputs": [],
   "source": [
    "f = [ 'DS' ,'ML' , 'Python' ] "
   ]
  },
  {
   "cell_type": "code",
   "execution_count": 16,
   "id": "ae0d4e88-74f6-48b7-9374-f74d88a48f9f",
   "metadata": {},
   "outputs": [
    {
     "data": {
      "text/plain": [
       "list"
      ]
     },
     "execution_count": 16,
     "metadata": {},
     "output_type": "execute_result"
    }
   ],
   "source": [
    "type(f)"
   ]
  },
  {
   "cell_type": "code",
   "execution_count": 17,
   "id": "c1d6779e-a20f-4a8f-b2f6-cd868dd7f2c3",
   "metadata": {},
   "outputs": [],
   "source": [
    "#Q3"
   ]
  },
  {
   "cell_type": "code",
   "execution_count": 18,
   "id": "1e510cc5-7271-4feb-b63c-534572a63424",
   "metadata": {},
   "outputs": [],
   "source": [
    "# use of / \n",
    "#for division , ex "
   ]
  },
  {
   "cell_type": "code",
   "execution_count": 19,
   "id": "5460a191-e17b-4f3c-890b-4665ad814063",
   "metadata": {},
   "outputs": [
    {
     "data": {
      "text/plain": [
       "1.25"
      ]
     },
     "execution_count": 19,
     "metadata": {},
     "output_type": "execute_result"
    }
   ],
   "source": [
    "5/4"
   ]
  },
  {
   "cell_type": "code",
   "execution_count": 20,
   "id": "a016667a-707b-480c-a380-fb8462860267",
   "metadata": {},
   "outputs": [],
   "source": [
    "# % is use for finding remainder"
   ]
  },
  {
   "cell_type": "code",
   "execution_count": 21,
   "id": "84a62454-b667-47de-8b9a-3ca15b61d1ed",
   "metadata": {},
   "outputs": [
    {
     "data": {
      "text/plain": [
       "5"
      ]
     },
     "execution_count": 21,
     "metadata": {},
     "output_type": "execute_result"
    }
   ],
   "source": [
    "5 % 10"
   ]
  },
  {
   "cell_type": "code",
   "execution_count": 33,
   "id": "48b816e3-8c69-4f7a-b750-3883b6cb71c6",
   "metadata": {},
   "outputs": [],
   "source": [
    "# // is for flour "
   ]
  },
  {
   "cell_type": "code",
   "execution_count": 34,
   "id": "f218e593-ba66-477d-9ea2-e866f91d954d",
   "metadata": {},
   "outputs": [
    {
     "data": {
      "text/plain": [
       "0"
      ]
     },
     "execution_count": 34,
     "metadata": {},
     "output_type": "execute_result"
    }
   ],
   "source": [
    "4//5"
   ]
  },
  {
   "cell_type": "code",
   "execution_count": 35,
   "id": "7cb51262-ee2f-4e98-b384-f1a7c2a6f947",
   "metadata": {},
   "outputs": [],
   "source": [
    "# ** is for exponential power"
   ]
  },
  {
   "cell_type": "code",
   "execution_count": 36,
   "id": "46f90237-955d-4856-93c6-b801dff6a6ae",
   "metadata": {},
   "outputs": [
    {
     "data": {
      "text/plain": [
       "64"
      ]
     },
     "execution_count": 36,
     "metadata": {},
     "output_type": "execute_result"
    }
   ],
   "source": [
    "4 ** 3"
   ]
  },
  {
   "cell_type": "code",
   "execution_count": 37,
   "id": "c92e69f7-50f6-4e7e-8071-0a281b27d4c1",
   "metadata": {},
   "outputs": [],
   "source": [
    "#q4"
   ]
  },
  {
   "cell_type": "code",
   "execution_count": 47,
   "id": "6434fed9-a240-4f26-a67d-242944322262",
   "metadata": {},
   "outputs": [
    {
     "name": "stdout",
     "output_type": "stream",
     "text": [
      "ashu\n",
      "5\n",
      "45.6\n",
      "adarsh\n",
      "Jammu\n",
      "True\n",
      "False\n"
     ]
    },
    {
     "data": {
      "text/plain": [
       "int"
      ]
     },
     "execution_count": 47,
     "metadata": {},
     "output_type": "execute_result"
    }
   ],
   "source": [
    "f = [ 'ashu' , 5 , 45.6 , 'adarsh' , 'Jammu' , True , False ]\n",
    "for s in f :\n",
    "    print (s)\n",
    "    print (type("
   ]
  },
  {
   "cell_type": "code",
   "execution_count": 1,
   "id": "3b4fc116-e895-404c-bf9c-72b836b68adf",
   "metadata": {},
   "outputs": [],
   "source": [
    "# Q5"
   ]
  },
  {
   "cell_type": "code",
   "execution_count": null,
   "id": "07481fee-3d2f-4992-9482-b142a0eac289",
   "metadata": {},
   "outputs": [],
   "source": [
    "g = 10 \n",
    "h = 5 \n",
    "if h/g :\n",
    "    print (\"thia divides\")\n",
    "while h/g :\n",
    "    print (h)"
   ]
  },
  {
   "cell_type": "code",
   "execution_count": 9,
   "id": "442c0a76-5299-49e9-bd99-246c96f45e87",
   "metadata": {},
   "outputs": [
    {
     "name": "stdout",
     "output_type": "stream",
     "text": [
      "it will\n"
     ]
    }
   ],
   "source": [
    "i = [6 ,7,8,9,10,11,12,13,14,15,16,17,18,19,20,21,22,23,24,25,26,27,28,29,30]\n",
    "if 8/3 :\n",
    "    print (\"it will\")"
   ]
  },
  {
   "cell_type": "code",
   "execution_count": null,
   "id": "13a481a0-fed4-4b62-b442-3574c5a24c87",
   "metadata": {},
   "outputs": [],
   "source": []
  }
 ],
 "metadata": {
  "kernelspec": {
   "display_name": "Python 3 (ipykernel)",
   "language": "python",
   "name": "python3"
  },
  "language_info": {
   "codemirror_mode": {
    "name": "ipython",
    "version": 3
   },
   "file_extension": ".py",
   "mimetype": "text/x-python",
   "name": "python",
   "nbconvert_exporter": "python",
   "pygments_lexer": "ipython3",
   "version": "3.10.8"
  }
 },
 "nbformat": 4,
 "nbformat_minor": 5
}
